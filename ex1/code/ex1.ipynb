{
 "cells": [
  {
   "metadata": {
    "ExecuteTime": {
     "end_time": "2025-05-17T00:07:58.656890Z",
     "start_time": "2025-05-17T00:07:58.422125Z"
    }
   },
   "cell_type": "code",
   "source": [
    "# Enable autoreload\n",
    "%load_ext autoreload\n",
    "%autoreload 2"
   ],
   "id": "d16cbf42dd923c25",
   "outputs": [],
   "execution_count": 2
  },
  {
   "metadata": {
    "ExecuteTime": {
     "end_time": "2025-05-17T00:08:00.103463Z",
     "start_time": "2025-05-17T00:07:58.784097Z"
    }
   },
   "cell_type": "code",
   "source": "import pandas as pd",
   "id": "b0dcfd3d70b9e296",
   "outputs": [],
   "execution_count": 3
  },
  {
   "metadata": {},
   "cell_type": "markdown",
   "source": "# Part 1 - Data Acquisition (Preview)",
   "id": "ebea7c5ba4404e5a"
  },
  {
   "metadata": {},
   "cell_type": "markdown",
   "source": "## Web-crawling Demographics Data",
   "id": "d5f34a9494523eab"
  },
  {
   "cell_type": "code",
   "id": "initial_id",
   "metadata": {
    "collapsed": true,
    "ExecuteTime": {
     "end_time": "2025-05-17T00:08:02.403513Z",
     "start_time": "2025-05-17T00:08:01.564785Z"
    }
   },
   "source": "from crawler import crawl_demographics, OUTPUT_DIR",
   "outputs": [],
   "execution_count": 4
  },
  {
   "metadata": {
    "ExecuteTime": {
     "end_time": "2025-05-17T00:08:06.695152Z",
     "start_time": "2025-05-17T00:08:03.053229Z"
    }
   },
   "cell_type": "code",
   "source": [
    "df_demographics = crawl_demographics()\n",
    "df_demographics"
   ],
   "id": "e069f65ddce30202",
   "outputs": [
    {
     "data": {
      "text/plain": [
       "Crawling:   0%|          | 0/200 [00:00<?, ?country/s]"
      ],
      "application/vnd.jupyter.widget-view+json": {
       "version_major": 2,
       "version_minor": 0,
       "model_id": "ac87fd84a62b40499d4d18a267a6c3ff"
      }
     },
     "metadata": {},
     "output_type": "display_data"
    },
    {
     "data": {
      "text/plain": [
       "                     LifeExpectancy_Both  LifeExpectancy_Female  \\\n",
       "Country                                                           \n",
       "Afghanistan                         66.5                   68.1   \n",
       "Albania                             80.0                   81.7   \n",
       "Algeria                             76.7                   78.1   \n",
       "Angola                              65.0                   67.5   \n",
       "Antigua and Barbuda                 77.9                   80.6   \n",
       "...                                  ...                    ...   \n",
       "Vietnam                             74.9                   79.5   \n",
       "Western Sahara                      71.8                   74.0   \n",
       "Yemen                               69.6                   71.7   \n",
       "Zambia                              66.7                   69.1   \n",
       "Zimbabwe                            63.3                   65.6   \n",
       "\n",
       "                     LifeExpectancy_Male  UrbanPopulation_Percentage  \\\n",
       "Country                                                                \n",
       "Afghanistan                         64.9                        26.7   \n",
       "Albania                             78.1                        70.3   \n",
       "Algeria                             75.3                        74.4   \n",
       "Angola                              62.4                        68.8   \n",
       "Antigua and Barbuda                 74.9                        28.5   \n",
       "...                                  ...                         ...   \n",
       "Vietnam                             70.2                        41.4   \n",
       "Western Sahara                      70.1                        97.0   \n",
       "Yemen                               67.5                        33.0   \n",
       "Zambia                              64.3                        46.8   \n",
       "Zimbabwe                            60.8                        37.9   \n",
       "\n",
       "                     UrbanPopulation_Absolute  PopulationDensity  \n",
       "Country                                                           \n",
       "Afghanistan                        11704638.0               67.0  \n",
       "Albania                             1948831.0              101.0  \n",
       "Algeria                            35291973.0               20.0  \n",
       "Angola                             26847887.0               31.0  \n",
       "Antigua and Barbuda                   26823.0              214.0  \n",
       "...                                       ...                ...  \n",
       "Vietnam                            42039428.0              328.0  \n",
       "Western Sahara                       583007.0                2.0  \n",
       "Yemen                              13801674.0               79.0  \n",
       "Zambia                             10256668.0               29.0  \n",
       "Zimbabwe                            6429761.0               44.0  \n",
       "\n",
       "[200 rows x 6 columns]"
      ],
      "text/html": [
       "<div>\n",
       "<style scoped>\n",
       "    .dataframe tbody tr th:only-of-type {\n",
       "        vertical-align: middle;\n",
       "    }\n",
       "\n",
       "    .dataframe tbody tr th {\n",
       "        vertical-align: top;\n",
       "    }\n",
       "\n",
       "    .dataframe thead th {\n",
       "        text-align: right;\n",
       "    }\n",
       "</style>\n",
       "<table border=\"1\" class=\"dataframe\">\n",
       "  <thead>\n",
       "    <tr style=\"text-align: right;\">\n",
       "      <th></th>\n",
       "      <th>LifeExpectancy_Both</th>\n",
       "      <th>LifeExpectancy_Female</th>\n",
       "      <th>LifeExpectancy_Male</th>\n",
       "      <th>UrbanPopulation_Percentage</th>\n",
       "      <th>UrbanPopulation_Absolute</th>\n",
       "      <th>PopulationDensity</th>\n",
       "    </tr>\n",
       "    <tr>\n",
       "      <th>Country</th>\n",
       "      <th></th>\n",
       "      <th></th>\n",
       "      <th></th>\n",
       "      <th></th>\n",
       "      <th></th>\n",
       "      <th></th>\n",
       "    </tr>\n",
       "  </thead>\n",
       "  <tbody>\n",
       "    <tr>\n",
       "      <th>Afghanistan</th>\n",
       "      <td>66.5</td>\n",
       "      <td>68.1</td>\n",
       "      <td>64.9</td>\n",
       "      <td>26.7</td>\n",
       "      <td>11704638.0</td>\n",
       "      <td>67.0</td>\n",
       "    </tr>\n",
       "    <tr>\n",
       "      <th>Albania</th>\n",
       "      <td>80.0</td>\n",
       "      <td>81.7</td>\n",
       "      <td>78.1</td>\n",
       "      <td>70.3</td>\n",
       "      <td>1948831.0</td>\n",
       "      <td>101.0</td>\n",
       "    </tr>\n",
       "    <tr>\n",
       "      <th>Algeria</th>\n",
       "      <td>76.7</td>\n",
       "      <td>78.1</td>\n",
       "      <td>75.3</td>\n",
       "      <td>74.4</td>\n",
       "      <td>35291973.0</td>\n",
       "      <td>20.0</td>\n",
       "    </tr>\n",
       "    <tr>\n",
       "      <th>Angola</th>\n",
       "      <td>65.0</td>\n",
       "      <td>67.5</td>\n",
       "      <td>62.4</td>\n",
       "      <td>68.8</td>\n",
       "      <td>26847887.0</td>\n",
       "      <td>31.0</td>\n",
       "    </tr>\n",
       "    <tr>\n",
       "      <th>Antigua and Barbuda</th>\n",
       "      <td>77.9</td>\n",
       "      <td>80.6</td>\n",
       "      <td>74.9</td>\n",
       "      <td>28.5</td>\n",
       "      <td>26823.0</td>\n",
       "      <td>214.0</td>\n",
       "    </tr>\n",
       "    <tr>\n",
       "      <th>...</th>\n",
       "      <td>...</td>\n",
       "      <td>...</td>\n",
       "      <td>...</td>\n",
       "      <td>...</td>\n",
       "      <td>...</td>\n",
       "      <td>...</td>\n",
       "    </tr>\n",
       "    <tr>\n",
       "      <th>Vietnam</th>\n",
       "      <td>74.9</td>\n",
       "      <td>79.5</td>\n",
       "      <td>70.2</td>\n",
       "      <td>41.4</td>\n",
       "      <td>42039428.0</td>\n",
       "      <td>328.0</td>\n",
       "    </tr>\n",
       "    <tr>\n",
       "      <th>Western Sahara</th>\n",
       "      <td>71.8</td>\n",
       "      <td>74.0</td>\n",
       "      <td>70.1</td>\n",
       "      <td>97.0</td>\n",
       "      <td>583007.0</td>\n",
       "      <td>2.0</td>\n",
       "    </tr>\n",
       "    <tr>\n",
       "      <th>Yemen</th>\n",
       "      <td>69.6</td>\n",
       "      <td>71.7</td>\n",
       "      <td>67.5</td>\n",
       "      <td>33.0</td>\n",
       "      <td>13801674.0</td>\n",
       "      <td>79.0</td>\n",
       "    </tr>\n",
       "    <tr>\n",
       "      <th>Zambia</th>\n",
       "      <td>66.7</td>\n",
       "      <td>69.1</td>\n",
       "      <td>64.3</td>\n",
       "      <td>46.8</td>\n",
       "      <td>10256668.0</td>\n",
       "      <td>29.0</td>\n",
       "    </tr>\n",
       "    <tr>\n",
       "      <th>Zimbabwe</th>\n",
       "      <td>63.3</td>\n",
       "      <td>65.6</td>\n",
       "      <td>60.8</td>\n",
       "      <td>37.9</td>\n",
       "      <td>6429761.0</td>\n",
       "      <td>44.0</td>\n",
       "    </tr>\n",
       "  </tbody>\n",
       "</table>\n",
       "<p>200 rows × 6 columns</p>\n",
       "</div>"
      ]
     },
     "execution_count": 5,
     "metadata": {},
     "output_type": "execute_result"
    }
   ],
   "execution_count": 5
  },
  {
   "metadata": {
    "ExecuteTime": {
     "end_time": "2025-05-17T00:08:11.797953Z",
     "start_time": "2025-05-17T00:08:11.654026Z"
    }
   },
   "cell_type": "code",
   "source": [
    "df_demographics_before_sort = pd.read_csv(OUTPUT_DIR / \"demographics_before_sort.csv\")\n",
    "df_demographics_before_sort"
   ],
   "id": "77593de119c41568",
   "outputs": [
    {
     "data": {
      "text/plain": [
       "               Country  LifeExpectancy_Both  LifeExpectancy_Female  \\\n",
       "0          Afghanistan                 66.5                   68.1   \n",
       "1              Albania                 80.0                   81.7   \n",
       "2              Algeria                 76.7                   78.1   \n",
       "3               Angola                 65.0                   67.5   \n",
       "4  Antigua and Barbuda                 77.9                   80.6   \n",
       "5            Argentina                 77.7                   80.2   \n",
       "6              Armenia                 76.0                   79.7   \n",
       "7                Aruba                 76.6                   79.1   \n",
       "8            Australia                 84.2                   86.0   \n",
       "9              Austria                 82.3                   84.6   \n",
       "\n",
       "   LifeExpectancy_Male  UrbanPopulation_Percentage  UrbanPopulation_Absolute  \\\n",
       "0                 64.9                        26.7                11704638.0   \n",
       "1                 78.1                        70.3                 1948831.0   \n",
       "2                 75.3                        74.4                35291973.0   \n",
       "3                 62.4                        68.8                26847887.0   \n",
       "4                 74.9                        28.5                   26823.0   \n",
       "5                 75.1                        96.0                44010474.0   \n",
       "6                 71.8                        63.8                 1882155.0   \n",
       "7                 74.0                        44.7                   48340.0   \n",
       "8                 82.4                        86.5                23335357.0   \n",
       "9                 80.0                        58.6                 5337973.0   \n",
       "\n",
       "   PopulationDensity  \n",
       "0               67.0  \n",
       "1              101.0  \n",
       "2               20.0  \n",
       "3               31.0  \n",
       "4              214.0  \n",
       "5               17.0  \n",
       "6              104.0  \n",
       "7              601.0  \n",
       "8                4.0  \n",
       "9              111.0  "
      ],
      "text/html": [
       "<div>\n",
       "<style scoped>\n",
       "    .dataframe tbody tr th:only-of-type {\n",
       "        vertical-align: middle;\n",
       "    }\n",
       "\n",
       "    .dataframe tbody tr th {\n",
       "        vertical-align: top;\n",
       "    }\n",
       "\n",
       "    .dataframe thead th {\n",
       "        text-align: right;\n",
       "    }\n",
       "</style>\n",
       "<table border=\"1\" class=\"dataframe\">\n",
       "  <thead>\n",
       "    <tr style=\"text-align: right;\">\n",
       "      <th></th>\n",
       "      <th>Country</th>\n",
       "      <th>LifeExpectancy_Both</th>\n",
       "      <th>LifeExpectancy_Female</th>\n",
       "      <th>LifeExpectancy_Male</th>\n",
       "      <th>UrbanPopulation_Percentage</th>\n",
       "      <th>UrbanPopulation_Absolute</th>\n",
       "      <th>PopulationDensity</th>\n",
       "    </tr>\n",
       "  </thead>\n",
       "  <tbody>\n",
       "    <tr>\n",
       "      <th>0</th>\n",
       "      <td>Afghanistan</td>\n",
       "      <td>66.5</td>\n",
       "      <td>68.1</td>\n",
       "      <td>64.9</td>\n",
       "      <td>26.7</td>\n",
       "      <td>11704638.0</td>\n",
       "      <td>67.0</td>\n",
       "    </tr>\n",
       "    <tr>\n",
       "      <th>1</th>\n",
       "      <td>Albania</td>\n",
       "      <td>80.0</td>\n",
       "      <td>81.7</td>\n",
       "      <td>78.1</td>\n",
       "      <td>70.3</td>\n",
       "      <td>1948831.0</td>\n",
       "      <td>101.0</td>\n",
       "    </tr>\n",
       "    <tr>\n",
       "      <th>2</th>\n",
       "      <td>Algeria</td>\n",
       "      <td>76.7</td>\n",
       "      <td>78.1</td>\n",
       "      <td>75.3</td>\n",
       "      <td>74.4</td>\n",
       "      <td>35291973.0</td>\n",
       "      <td>20.0</td>\n",
       "    </tr>\n",
       "    <tr>\n",
       "      <th>3</th>\n",
       "      <td>Angola</td>\n",
       "      <td>65.0</td>\n",
       "      <td>67.5</td>\n",
       "      <td>62.4</td>\n",
       "      <td>68.8</td>\n",
       "      <td>26847887.0</td>\n",
       "      <td>31.0</td>\n",
       "    </tr>\n",
       "    <tr>\n",
       "      <th>4</th>\n",
       "      <td>Antigua and Barbuda</td>\n",
       "      <td>77.9</td>\n",
       "      <td>80.6</td>\n",
       "      <td>74.9</td>\n",
       "      <td>28.5</td>\n",
       "      <td>26823.0</td>\n",
       "      <td>214.0</td>\n",
       "    </tr>\n",
       "    <tr>\n",
       "      <th>5</th>\n",
       "      <td>Argentina</td>\n",
       "      <td>77.7</td>\n",
       "      <td>80.2</td>\n",
       "      <td>75.1</td>\n",
       "      <td>96.0</td>\n",
       "      <td>44010474.0</td>\n",
       "      <td>17.0</td>\n",
       "    </tr>\n",
       "    <tr>\n",
       "      <th>6</th>\n",
       "      <td>Armenia</td>\n",
       "      <td>76.0</td>\n",
       "      <td>79.7</td>\n",
       "      <td>71.8</td>\n",
       "      <td>63.8</td>\n",
       "      <td>1882155.0</td>\n",
       "      <td>104.0</td>\n",
       "    </tr>\n",
       "    <tr>\n",
       "      <th>7</th>\n",
       "      <td>Aruba</td>\n",
       "      <td>76.6</td>\n",
       "      <td>79.1</td>\n",
       "      <td>74.0</td>\n",
       "      <td>44.7</td>\n",
       "      <td>48340.0</td>\n",
       "      <td>601.0</td>\n",
       "    </tr>\n",
       "    <tr>\n",
       "      <th>8</th>\n",
       "      <td>Australia</td>\n",
       "      <td>84.2</td>\n",
       "      <td>86.0</td>\n",
       "      <td>82.4</td>\n",
       "      <td>86.5</td>\n",
       "      <td>23335357.0</td>\n",
       "      <td>4.0</td>\n",
       "    </tr>\n",
       "    <tr>\n",
       "      <th>9</th>\n",
       "      <td>Austria</td>\n",
       "      <td>82.3</td>\n",
       "      <td>84.6</td>\n",
       "      <td>80.0</td>\n",
       "      <td>58.6</td>\n",
       "      <td>5337973.0</td>\n",
       "      <td>111.0</td>\n",
       "    </tr>\n",
       "  </tbody>\n",
       "</table>\n",
       "</div>"
      ]
     },
     "execution_count": 6,
     "metadata": {},
     "output_type": "execute_result"
    }
   ],
   "execution_count": 6
  },
  {
   "metadata": {
    "ExecuteTime": {
     "end_time": "2025-05-17T00:08:17.987266Z",
     "start_time": "2025-05-17T00:08:17.864778Z"
    }
   },
   "cell_type": "code",
   "source": [
    "df_demographics_after_sort = pd.read_csv(OUTPUT_DIR / \"demographics_after_sort.csv\")\n",
    "df_demographics_after_sort"
   ],
   "id": "77ffd293ddf893d7",
   "outputs": [
    {
     "data": {
      "text/plain": [
       "               Country  LifeExpectancy_Both  LifeExpectancy_Female  \\\n",
       "0          Afghanistan                 66.5                   68.1   \n",
       "1              Albania                 80.0                   81.7   \n",
       "2              Algeria                 76.7                   78.1   \n",
       "3               Angola                 65.0                   67.5   \n",
       "4  Antigua and Barbuda                 77.9                   80.6   \n",
       "5            Argentina                 77.7                   80.2   \n",
       "6              Armenia                 76.0                   79.7   \n",
       "7                Aruba                 76.6                   79.1   \n",
       "8            Australia                 84.2                   86.0   \n",
       "9              Austria                 82.3                   84.6   \n",
       "\n",
       "   LifeExpectancy_Male  UrbanPopulation_Percentage  UrbanPopulation_Absolute  \\\n",
       "0                 64.9                        26.7                11704638.0   \n",
       "1                 78.1                        70.3                 1948831.0   \n",
       "2                 75.3                        74.4                35291973.0   \n",
       "3                 62.4                        68.8                26847887.0   \n",
       "4                 74.9                        28.5                   26823.0   \n",
       "5                 75.1                        96.0                44010474.0   \n",
       "6                 71.8                        63.8                 1882155.0   \n",
       "7                 74.0                        44.7                   48340.0   \n",
       "8                 82.4                        86.5                23335357.0   \n",
       "9                 80.0                        58.6                 5337973.0   \n",
       "\n",
       "   PopulationDensity  \n",
       "0               67.0  \n",
       "1              101.0  \n",
       "2               20.0  \n",
       "3               31.0  \n",
       "4              214.0  \n",
       "5               17.0  \n",
       "6              104.0  \n",
       "7              601.0  \n",
       "8                4.0  \n",
       "9              111.0  "
      ],
      "text/html": [
       "<div>\n",
       "<style scoped>\n",
       "    .dataframe tbody tr th:only-of-type {\n",
       "        vertical-align: middle;\n",
       "    }\n",
       "\n",
       "    .dataframe tbody tr th {\n",
       "        vertical-align: top;\n",
       "    }\n",
       "\n",
       "    .dataframe thead th {\n",
       "        text-align: right;\n",
       "    }\n",
       "</style>\n",
       "<table border=\"1\" class=\"dataframe\">\n",
       "  <thead>\n",
       "    <tr style=\"text-align: right;\">\n",
       "      <th></th>\n",
       "      <th>Country</th>\n",
       "      <th>LifeExpectancy_Both</th>\n",
       "      <th>LifeExpectancy_Female</th>\n",
       "      <th>LifeExpectancy_Male</th>\n",
       "      <th>UrbanPopulation_Percentage</th>\n",
       "      <th>UrbanPopulation_Absolute</th>\n",
       "      <th>PopulationDensity</th>\n",
       "    </tr>\n",
       "  </thead>\n",
       "  <tbody>\n",
       "    <tr>\n",
       "      <th>0</th>\n",
       "      <td>Afghanistan</td>\n",
       "      <td>66.5</td>\n",
       "      <td>68.1</td>\n",
       "      <td>64.9</td>\n",
       "      <td>26.7</td>\n",
       "      <td>11704638.0</td>\n",
       "      <td>67.0</td>\n",
       "    </tr>\n",
       "    <tr>\n",
       "      <th>1</th>\n",
       "      <td>Albania</td>\n",
       "      <td>80.0</td>\n",
       "      <td>81.7</td>\n",
       "      <td>78.1</td>\n",
       "      <td>70.3</td>\n",
       "      <td>1948831.0</td>\n",
       "      <td>101.0</td>\n",
       "    </tr>\n",
       "    <tr>\n",
       "      <th>2</th>\n",
       "      <td>Algeria</td>\n",
       "      <td>76.7</td>\n",
       "      <td>78.1</td>\n",
       "      <td>75.3</td>\n",
       "      <td>74.4</td>\n",
       "      <td>35291973.0</td>\n",
       "      <td>20.0</td>\n",
       "    </tr>\n",
       "    <tr>\n",
       "      <th>3</th>\n",
       "      <td>Angola</td>\n",
       "      <td>65.0</td>\n",
       "      <td>67.5</td>\n",
       "      <td>62.4</td>\n",
       "      <td>68.8</td>\n",
       "      <td>26847887.0</td>\n",
       "      <td>31.0</td>\n",
       "    </tr>\n",
       "    <tr>\n",
       "      <th>4</th>\n",
       "      <td>Antigua and Barbuda</td>\n",
       "      <td>77.9</td>\n",
       "      <td>80.6</td>\n",
       "      <td>74.9</td>\n",
       "      <td>28.5</td>\n",
       "      <td>26823.0</td>\n",
       "      <td>214.0</td>\n",
       "    </tr>\n",
       "    <tr>\n",
       "      <th>5</th>\n",
       "      <td>Argentina</td>\n",
       "      <td>77.7</td>\n",
       "      <td>80.2</td>\n",
       "      <td>75.1</td>\n",
       "      <td>96.0</td>\n",
       "      <td>44010474.0</td>\n",
       "      <td>17.0</td>\n",
       "    </tr>\n",
       "    <tr>\n",
       "      <th>6</th>\n",
       "      <td>Armenia</td>\n",
       "      <td>76.0</td>\n",
       "      <td>79.7</td>\n",
       "      <td>71.8</td>\n",
       "      <td>63.8</td>\n",
       "      <td>1882155.0</td>\n",
       "      <td>104.0</td>\n",
       "    </tr>\n",
       "    <tr>\n",
       "      <th>7</th>\n",
       "      <td>Aruba</td>\n",
       "      <td>76.6</td>\n",
       "      <td>79.1</td>\n",
       "      <td>74.0</td>\n",
       "      <td>44.7</td>\n",
       "      <td>48340.0</td>\n",
       "      <td>601.0</td>\n",
       "    </tr>\n",
       "    <tr>\n",
       "      <th>8</th>\n",
       "      <td>Australia</td>\n",
       "      <td>84.2</td>\n",
       "      <td>86.0</td>\n",
       "      <td>82.4</td>\n",
       "      <td>86.5</td>\n",
       "      <td>23335357.0</td>\n",
       "      <td>4.0</td>\n",
       "    </tr>\n",
       "    <tr>\n",
       "      <th>9</th>\n",
       "      <td>Austria</td>\n",
       "      <td>82.3</td>\n",
       "      <td>84.6</td>\n",
       "      <td>80.0</td>\n",
       "      <td>58.6</td>\n",
       "      <td>5337973.0</td>\n",
       "      <td>111.0</td>\n",
       "    </tr>\n",
       "  </tbody>\n",
       "</table>\n",
       "</div>"
      ]
     },
     "execution_count": 7,
     "metadata": {},
     "output_type": "execute_result"
    }
   ],
   "execution_count": 7
  },
  {
   "metadata": {},
   "cell_type": "markdown",
   "source": "## Load the 2021 CSVs",
   "id": "d7ebd2ae3ce1ba0b"
  },
  {
   "metadata": {
    "ExecuteTime": {
     "end_time": "2025-05-16T23:51:01.799927Z",
     "start_time": "2025-05-16T23:51:01.673771Z"
    }
   },
   "cell_type": "code",
   "source": "from utils import load_csv, read_csv",
   "id": "1ba2c8af49eeb530",
   "outputs": [],
   "execution_count": 42
  },
  {
   "metadata": {
    "ExecuteTime": {
     "end_time": "2025-05-16T23:49:45.803357Z",
     "start_time": "2025-05-16T23:49:45.706060Z"
    }
   },
   "cell_type": "code",
   "source": [
    "def confirm_cols(df, expected_cols):\n",
    "        if all(col in df.columns for col in expected_cols):\n",
    "            print(f\"{expected_cols} cols exist in dataframe\")"
   ],
   "id": "da5bfbd13981ea5b",
   "outputs": [],
   "execution_count": 39
  },
  {
   "metadata": {},
   "cell_type": "code",
   "source": [
    "gdp_dataset_expected_cols = [\"Country\", \"GDP_per_capita_PPP\"]\n",
    "gdp_dataset_filename = 'gdp_per_capita_2021.csv'\n",
    "df_gdp = read_csv(gdp_dataset_filename)"
   ],
   "id": "8e9180cb890fc4ec",
   "execution_count": null,
   "outputs": []
  },
  {
   "metadata": {},
   "cell_type": "code",
   "outputs": [],
   "execution_count": null,
   "source": [
    "pop_dataset_expected_cols = [\"Country\", \"Population\"]\n",
    "pop_dataset_filename = 'population_2021.csv'\n",
    "df_pop = read_csv(pop_dataset_filename)"
   ],
   "id": "920126aa30b0907f"
  },
  {
   "metadata": {
    "ExecuteTime": {
     "end_time": "2025-05-16T23:52:58.618230Z",
     "start_time": "2025-05-16T23:52:58.498397Z"
    }
   },
   "cell_type": "code",
   "source": [
    "confirm_cols(df_gdp, gdp_dataset_expected_cols)\n",
    "print(df_gdp.shape, df_gdp.columns)\n",
    "print(df_gdp.info())"
   ],
   "id": "86bee9ec076f80af",
   "outputs": [
    {
     "name": "stdout",
     "output_type": "stream",
     "text": [
      "['Country', 'GDP_per_capita_PPP'] cols exist in dataframe\n",
      "(213, 2) Index(['Country', 'GDP_per_capita_PPP'], dtype='object')\n",
      "<class 'pandas.core.frame.DataFrame'>\n",
      "RangeIndex: 213 entries, 0 to 212\n",
      "Data columns (total 2 columns):\n",
      " #   Column              Non-Null Count  Dtype  \n",
      "---  ------              --------------  -----  \n",
      " 0   Country             213 non-null    object \n",
      " 1   GDP_per_capita_PPP  213 non-null    float64\n",
      "dtypes: float64(1), object(1)\n",
      "memory usage: 3.5+ KB\n",
      "None\n"
     ]
    }
   ],
   "execution_count": 46
  },
  {
   "metadata": {
    "ExecuteTime": {
     "end_time": "2025-05-16T23:49:51.903195Z",
     "start_time": "2025-05-16T23:49:51.808819Z"
    }
   },
   "cell_type": "code",
   "source": [
    "confirm_cols(df_pop, pop_dataset_expected_cols)\n",
    "print(df_pop.shape, df_pop.columns)\n",
    "print(df_pop.info())"
   ],
   "id": "ad4ba9e074d98102",
   "outputs": [
    {
     "name": "stdout",
     "output_type": "stream",
     "text": [
      "['Country', 'Population'] cols exist in dataframe\n"
     ]
    },
    {
     "data": {
      "text/plain": [
       "((260, 2), Index(['Country', 'Population'], dtype='object'))"
      ]
     },
     "execution_count": 41,
     "metadata": {},
     "output_type": "execute_result"
    }
   ],
   "execution_count": 41
  },
  {
   "metadata": {
    "ExecuteTime": {
     "end_time": "2025-05-16T23:51:20.768356Z",
     "start_time": "2025-05-16T23:51:20.651970Z"
    }
   },
   "cell_type": "code",
   "source": [
    "# numeric fix\n",
    "for col in [\"GDP_per_capita_PPP\", \"Population\"]:\n",
    "    if col in df_gdp.columns:\n",
    "        df_gdp[col] = pd.to_numeric(df_gdp[col], errors=\"coerce\")\n",
    "    if col in df_pop.columns:\n",
    "        df_pop[col] = pd.to_numeric(df_pop[col], errors=\"coerce\")"
   ],
   "id": "235a35c28b473162",
   "outputs": [],
   "execution_count": 43
  },
  {
   "metadata": {
    "ExecuteTime": {
     "end_time": "2025-05-16T23:53:41.366526Z",
     "start_time": "2025-05-16T23:53:41.253203Z"
    }
   },
   "cell_type": "code",
   "source": [
    "# before sort snapshots\n",
    "df_gdp.head()"
   ],
   "id": "fe6076d46ce21de7",
   "outputs": [
    {
     "data": {
      "text/plain": [
       "       Country  GDP_per_capita_PPP\n",
       "0  Afghanistan           2144.1665\n",
       "1      Albania          16353.8090\n",
       "2      Algeria          14496.8650\n",
       "3      Andorra          59332.2030\n",
       "4       Angola           7408.1265"
      ],
      "text/html": [
       "<div>\n",
       "<style scoped>\n",
       "    .dataframe tbody tr th:only-of-type {\n",
       "        vertical-align: middle;\n",
       "    }\n",
       "\n",
       "    .dataframe tbody tr th {\n",
       "        vertical-align: top;\n",
       "    }\n",
       "\n",
       "    .dataframe thead th {\n",
       "        text-align: right;\n",
       "    }\n",
       "</style>\n",
       "<table border=\"1\" class=\"dataframe\">\n",
       "  <thead>\n",
       "    <tr style=\"text-align: right;\">\n",
       "      <th></th>\n",
       "      <th>Country</th>\n",
       "      <th>GDP_per_capita_PPP</th>\n",
       "    </tr>\n",
       "  </thead>\n",
       "  <tbody>\n",
       "    <tr>\n",
       "      <th>0</th>\n",
       "      <td>Afghanistan</td>\n",
       "      <td>2144.1665</td>\n",
       "    </tr>\n",
       "    <tr>\n",
       "      <th>1</th>\n",
       "      <td>Albania</td>\n",
       "      <td>16353.8090</td>\n",
       "    </tr>\n",
       "    <tr>\n",
       "      <th>2</th>\n",
       "      <td>Algeria</td>\n",
       "      <td>14496.8650</td>\n",
       "    </tr>\n",
       "    <tr>\n",
       "      <th>3</th>\n",
       "      <td>Andorra</td>\n",
       "      <td>59332.2030</td>\n",
       "    </tr>\n",
       "    <tr>\n",
       "      <th>4</th>\n",
       "      <td>Angola</td>\n",
       "      <td>7408.1265</td>\n",
       "    </tr>\n",
       "  </tbody>\n",
       "</table>\n",
       "</div>"
      ]
     },
     "execution_count": 47,
     "metadata": {},
     "output_type": "execute_result"
    }
   ],
   "execution_count": 47
  },
  {
   "metadata": {
    "ExecuteTime": {
     "end_time": "2025-05-16T23:58:28.889695Z",
     "start_time": "2025-05-16T23:58:28.767431Z"
    }
   },
   "cell_type": "code",
   "source": [
    "df_gdp.sort_values(\"Country\", inplace=True)\n",
    "df_gdp.head()"
   ],
   "id": "7a2d2ff299fbab8e",
   "outputs": [
    {
     "data": {
      "text/plain": [
       "       Country  GDP_per_capita_PPP\n",
       "0  Afghanistan           2144.1665\n",
       "1      Albania          16353.8090\n",
       "2      Algeria          14496.8650\n",
       "3      Andorra          59332.2030\n",
       "4       Angola           7408.1265"
      ],
      "text/html": [
       "<div>\n",
       "<style scoped>\n",
       "    .dataframe tbody tr th:only-of-type {\n",
       "        vertical-align: middle;\n",
       "    }\n",
       "\n",
       "    .dataframe tbody tr th {\n",
       "        vertical-align: top;\n",
       "    }\n",
       "\n",
       "    .dataframe thead th {\n",
       "        text-align: right;\n",
       "    }\n",
       "</style>\n",
       "<table border=\"1\" class=\"dataframe\">\n",
       "  <thead>\n",
       "    <tr style=\"text-align: right;\">\n",
       "      <th></th>\n",
       "      <th>Country</th>\n",
       "      <th>GDP_per_capita_PPP</th>\n",
       "    </tr>\n",
       "  </thead>\n",
       "  <tbody>\n",
       "    <tr>\n",
       "      <th>0</th>\n",
       "      <td>Afghanistan</td>\n",
       "      <td>2144.1665</td>\n",
       "    </tr>\n",
       "    <tr>\n",
       "      <th>1</th>\n",
       "      <td>Albania</td>\n",
       "      <td>16353.8090</td>\n",
       "    </tr>\n",
       "    <tr>\n",
       "      <th>2</th>\n",
       "      <td>Algeria</td>\n",
       "      <td>14496.8650</td>\n",
       "    </tr>\n",
       "    <tr>\n",
       "      <th>3</th>\n",
       "      <td>Andorra</td>\n",
       "      <td>59332.2030</td>\n",
       "    </tr>\n",
       "    <tr>\n",
       "      <th>4</th>\n",
       "      <td>Angola</td>\n",
       "      <td>7408.1265</td>\n",
       "    </tr>\n",
       "  </tbody>\n",
       "</table>\n",
       "</div>"
      ]
     },
     "execution_count": 48,
     "metadata": {},
     "output_type": "execute_result"
    }
   ],
   "execution_count": 48
  },
  {
   "metadata": {
    "ExecuteTime": {
     "end_time": "2025-05-16T23:58:37.202304Z",
     "start_time": "2025-05-16T23:58:37.068675Z"
    }
   },
   "cell_type": "code",
   "source": "df_pop.head()",
   "id": "79cf6fa5c5f567c7",
   "outputs": [
    {
     "data": {
      "text/plain": [
       "       Country  Population\n",
       "0  Afghanistan    40000360\n",
       "1       Africa  1413750475\n",
       "2  Africa (UN)  1413753005\n",
       "3      Albania     2849591\n",
       "4      Algeria    44761051"
      ],
      "text/html": [
       "<div>\n",
       "<style scoped>\n",
       "    .dataframe tbody tr th:only-of-type {\n",
       "        vertical-align: middle;\n",
       "    }\n",
       "\n",
       "    .dataframe tbody tr th {\n",
       "        vertical-align: top;\n",
       "    }\n",
       "\n",
       "    .dataframe thead th {\n",
       "        text-align: right;\n",
       "    }\n",
       "</style>\n",
       "<table border=\"1\" class=\"dataframe\">\n",
       "  <thead>\n",
       "    <tr style=\"text-align: right;\">\n",
       "      <th></th>\n",
       "      <th>Country</th>\n",
       "      <th>Population</th>\n",
       "    </tr>\n",
       "  </thead>\n",
       "  <tbody>\n",
       "    <tr>\n",
       "      <th>0</th>\n",
       "      <td>Afghanistan</td>\n",
       "      <td>40000360</td>\n",
       "    </tr>\n",
       "    <tr>\n",
       "      <th>1</th>\n",
       "      <td>Africa</td>\n",
       "      <td>1413750475</td>\n",
       "    </tr>\n",
       "    <tr>\n",
       "      <th>2</th>\n",
       "      <td>Africa (UN)</td>\n",
       "      <td>1413753005</td>\n",
       "    </tr>\n",
       "    <tr>\n",
       "      <th>3</th>\n",
       "      <td>Albania</td>\n",
       "      <td>2849591</td>\n",
       "    </tr>\n",
       "    <tr>\n",
       "      <th>4</th>\n",
       "      <td>Algeria</td>\n",
       "      <td>44761051</td>\n",
       "    </tr>\n",
       "  </tbody>\n",
       "</table>\n",
       "</div>"
      ]
     },
     "execution_count": 49,
     "metadata": {},
     "output_type": "execute_result"
    }
   ],
   "execution_count": 49
  },
  {
   "metadata": {
    "ExecuteTime": {
     "end_time": "2025-05-17T00:00:42.778003Z",
     "start_time": "2025-05-17T00:00:42.663679Z"
    }
   },
   "cell_type": "code",
   "source": "df_gdp.describe()",
   "id": "21c467613cec39ee",
   "outputs": [
    {
     "data": {
      "text/plain": [
       "       GDP_per_capita_PPP\n",
       "count          213.000000\n",
       "mean         25822.604541\n",
       "std          25794.941595\n",
       "min            836.665600\n",
       "25%           6214.017000\n",
       "50%          16353.809000\n",
       "75%          38862.090000\n",
       "max         137947.340000"
      ],
      "text/html": [
       "<div>\n",
       "<style scoped>\n",
       "    .dataframe tbody tr th:only-of-type {\n",
       "        vertical-align: middle;\n",
       "    }\n",
       "\n",
       "    .dataframe tbody tr th {\n",
       "        vertical-align: top;\n",
       "    }\n",
       "\n",
       "    .dataframe thead th {\n",
       "        text-align: right;\n",
       "    }\n",
       "</style>\n",
       "<table border=\"1\" class=\"dataframe\">\n",
       "  <thead>\n",
       "    <tr style=\"text-align: right;\">\n",
       "      <th></th>\n",
       "      <th>GDP_per_capita_PPP</th>\n",
       "    </tr>\n",
       "  </thead>\n",
       "  <tbody>\n",
       "    <tr>\n",
       "      <th>count</th>\n",
       "      <td>213.000000</td>\n",
       "    </tr>\n",
       "    <tr>\n",
       "      <th>mean</th>\n",
       "      <td>25822.604541</td>\n",
       "    </tr>\n",
       "    <tr>\n",
       "      <th>std</th>\n",
       "      <td>25794.941595</td>\n",
       "    </tr>\n",
       "    <tr>\n",
       "      <th>min</th>\n",
       "      <td>836.665600</td>\n",
       "    </tr>\n",
       "    <tr>\n",
       "      <th>25%</th>\n",
       "      <td>6214.017000</td>\n",
       "    </tr>\n",
       "    <tr>\n",
       "      <th>50%</th>\n",
       "      <td>16353.809000</td>\n",
       "    </tr>\n",
       "    <tr>\n",
       "      <th>75%</th>\n",
       "      <td>38862.090000</td>\n",
       "    </tr>\n",
       "    <tr>\n",
       "      <th>max</th>\n",
       "      <td>137947.340000</td>\n",
       "    </tr>\n",
       "  </tbody>\n",
       "</table>\n",
       "</div>"
      ]
     },
     "execution_count": 51,
     "metadata": {},
     "output_type": "execute_result"
    }
   ],
   "execution_count": 51
  },
  {
   "metadata": {
    "ExecuteTime": {
     "end_time": "2025-05-16T23:59:58.105641Z",
     "start_time": "2025-05-16T23:59:57.990692Z"
    }
   },
   "cell_type": "code",
   "source": [
    "df_pop.sort_values(\"Country\", inplace=True)\n",
    "df_pop.head()"
   ],
   "id": "1babc5b07e362cae",
   "outputs": [
    {
     "data": {
      "text/plain": [
       "       Country  Population\n",
       "0  Afghanistan    40000360\n",
       "1       Africa  1413750475\n",
       "2  Africa (UN)  1413753005\n",
       "3      Albania     2849591\n",
       "4      Algeria    44761051"
      ],
      "text/html": [
       "<div>\n",
       "<style scoped>\n",
       "    .dataframe tbody tr th:only-of-type {\n",
       "        vertical-align: middle;\n",
       "    }\n",
       "\n",
       "    .dataframe tbody tr th {\n",
       "        vertical-align: top;\n",
       "    }\n",
       "\n",
       "    .dataframe thead th {\n",
       "        text-align: right;\n",
       "    }\n",
       "</style>\n",
       "<table border=\"1\" class=\"dataframe\">\n",
       "  <thead>\n",
       "    <tr style=\"text-align: right;\">\n",
       "      <th></th>\n",
       "      <th>Country</th>\n",
       "      <th>Population</th>\n",
       "    </tr>\n",
       "  </thead>\n",
       "  <tbody>\n",
       "    <tr>\n",
       "      <th>0</th>\n",
       "      <td>Afghanistan</td>\n",
       "      <td>40000360</td>\n",
       "    </tr>\n",
       "    <tr>\n",
       "      <th>1</th>\n",
       "      <td>Africa</td>\n",
       "      <td>1413750475</td>\n",
       "    </tr>\n",
       "    <tr>\n",
       "      <th>2</th>\n",
       "      <td>Africa (UN)</td>\n",
       "      <td>1413753005</td>\n",
       "    </tr>\n",
       "    <tr>\n",
       "      <th>3</th>\n",
       "      <td>Albania</td>\n",
       "      <td>2849591</td>\n",
       "    </tr>\n",
       "    <tr>\n",
       "      <th>4</th>\n",
       "      <td>Algeria</td>\n",
       "      <td>44761051</td>\n",
       "    </tr>\n",
       "  </tbody>\n",
       "</table>\n",
       "</div>"
      ]
     },
     "execution_count": 50,
     "metadata": {},
     "output_type": "execute_result"
    }
   ],
   "execution_count": 50
  },
  {
   "metadata": {
    "ExecuteTime": {
     "end_time": "2025-05-17T00:00:53.553042Z",
     "start_time": "2025-05-17T00:00:53.435677Z"
    }
   },
   "cell_type": "code",
   "source": "df_pop.describe()",
   "id": "3e96bf35ac0647fd",
   "outputs": [
    {
     "data": {
      "text/plain": [
       "         Population\n",
       "count  2.600000e+02\n",
       "mean   1.687752e+08\n",
       "std    7.254974e+08\n",
       "min    5.150000e+02\n",
       "25%    5.224038e+05\n",
       "50%    6.827910e+06\n",
       "75%    3.425334e+07\n",
       "max    7.954448e+09"
      ],
      "text/html": [
       "<div>\n",
       "<style scoped>\n",
       "    .dataframe tbody tr th:only-of-type {\n",
       "        vertical-align: middle;\n",
       "    }\n",
       "\n",
       "    .dataframe tbody tr th {\n",
       "        vertical-align: top;\n",
       "    }\n",
       "\n",
       "    .dataframe thead th {\n",
       "        text-align: right;\n",
       "    }\n",
       "</style>\n",
       "<table border=\"1\" class=\"dataframe\">\n",
       "  <thead>\n",
       "    <tr style=\"text-align: right;\">\n",
       "      <th></th>\n",
       "      <th>Population</th>\n",
       "    </tr>\n",
       "  </thead>\n",
       "  <tbody>\n",
       "    <tr>\n",
       "      <th>count</th>\n",
       "      <td>2.600000e+02</td>\n",
       "    </tr>\n",
       "    <tr>\n",
       "      <th>mean</th>\n",
       "      <td>1.687752e+08</td>\n",
       "    </tr>\n",
       "    <tr>\n",
       "      <th>std</th>\n",
       "      <td>7.254974e+08</td>\n",
       "    </tr>\n",
       "    <tr>\n",
       "      <th>min</th>\n",
       "      <td>5.150000e+02</td>\n",
       "    </tr>\n",
       "    <tr>\n",
       "      <th>25%</th>\n",
       "      <td>5.224038e+05</td>\n",
       "    </tr>\n",
       "    <tr>\n",
       "      <th>50%</th>\n",
       "      <td>6.827910e+06</td>\n",
       "    </tr>\n",
       "    <tr>\n",
       "      <th>75%</th>\n",
       "      <td>3.425334e+07</td>\n",
       "    </tr>\n",
       "    <tr>\n",
       "      <th>max</th>\n",
       "      <td>7.954448e+09</td>\n",
       "    </tr>\n",
       "  </tbody>\n",
       "</table>\n",
       "</div>"
      ]
     },
     "execution_count": 52,
     "metadata": {},
     "output_type": "execute_result"
    }
   ],
   "execution_count": 52
  },
  {
   "metadata": {},
   "cell_type": "markdown",
   "source": "## Demographics Data Analysis",
   "id": "edc0bbc90e0af030"
  },
  {
   "metadata": {
    "ExecuteTime": {
     "end_time": "2025-05-16T23:31:15.218720Z",
     "start_time": "2025-05-16T23:31:15.214712Z"
    }
   },
   "cell_type": "code",
   "source": "from utils import OUTPUT_DIR",
   "id": "b11145285249b22c",
   "outputs": [],
   "execution_count": 19
  },
  {
   "metadata": {},
   "cell_type": "markdown",
   "source": "### Numeric-field Summary",
   "id": "6bdd2fcd10bfd13c"
  },
  {
   "metadata": {
    "ExecuteTime": {
     "end_time": "2025-05-16T23:30:50.646156Z",
     "start_time": "2025-05-16T23:30:50.627962Z"
    }
   },
   "cell_type": "code",
   "source": [
    "num_cols = df_demographics.select_dtypes(\"number\").columns\n",
    "summary = (\n",
    "    df_demographics[num_cols]\n",
    "    .agg([\"mean\", \"std\", \"min\", \"max\", \"median\"])\n",
    "    .T\n",
    "    .assign(missing=df_demographics[num_cols].isna().sum())\n",
    ")\n",
    "display(summary)  # nice HTML in notebook"
   ],
   "id": "2ea3dbe8a7c66d44",
   "outputs": [
    {
     "data": {
      "text/plain": [
       "                                    mean           std      min          max  \\\n",
       "LifeExpectancy_Both         7.397750e+01  7.004589e+00     54.8         85.8   \n",
       "LifeExpectancy_Female       7.659650e+01  7.126054e+00     55.1         88.4   \n",
       "LifeExpectancy_Male         7.137950e+01  6.979282e+00     53.5         83.1   \n",
       "UrbanPopulation_Percentage  5.727600e+01  2.514603e+01      0.0         98.8   \n",
       "UrbanPopulation_Absolute    2.483416e+07  8.517914e+07  26661.0  956553854.0   \n",
       "PopulationDensity           3.760200e+02  1.866303e+03      2.0      24067.0   \n",
       "\n",
       "                                median  missing  \n",
       "LifeExpectancy_Both              74.85        0  \n",
       "LifeExpectancy_Female            78.05        0  \n",
       "LifeExpectancy_Male              71.20        0  \n",
       "UrbanPopulation_Percentage       60.55        0  \n",
       "UrbanPopulation_Absolute    5011189.50       10  \n",
       "PopulationDensity                93.00        0  "
      ],
      "text/html": [
       "<div>\n",
       "<style scoped>\n",
       "    .dataframe tbody tr th:only-of-type {\n",
       "        vertical-align: middle;\n",
       "    }\n",
       "\n",
       "    .dataframe tbody tr th {\n",
       "        vertical-align: top;\n",
       "    }\n",
       "\n",
       "    .dataframe thead th {\n",
       "        text-align: right;\n",
       "    }\n",
       "</style>\n",
       "<table border=\"1\" class=\"dataframe\">\n",
       "  <thead>\n",
       "    <tr style=\"text-align: right;\">\n",
       "      <th></th>\n",
       "      <th>mean</th>\n",
       "      <th>std</th>\n",
       "      <th>min</th>\n",
       "      <th>max</th>\n",
       "      <th>median</th>\n",
       "      <th>missing</th>\n",
       "    </tr>\n",
       "  </thead>\n",
       "  <tbody>\n",
       "    <tr>\n",
       "      <th>LifeExpectancy_Both</th>\n",
       "      <td>7.397750e+01</td>\n",
       "      <td>7.004589e+00</td>\n",
       "      <td>54.8</td>\n",
       "      <td>85.8</td>\n",
       "      <td>74.85</td>\n",
       "      <td>0</td>\n",
       "    </tr>\n",
       "    <tr>\n",
       "      <th>LifeExpectancy_Female</th>\n",
       "      <td>7.659650e+01</td>\n",
       "      <td>7.126054e+00</td>\n",
       "      <td>55.1</td>\n",
       "      <td>88.4</td>\n",
       "      <td>78.05</td>\n",
       "      <td>0</td>\n",
       "    </tr>\n",
       "    <tr>\n",
       "      <th>LifeExpectancy_Male</th>\n",
       "      <td>7.137950e+01</td>\n",
       "      <td>6.979282e+00</td>\n",
       "      <td>53.5</td>\n",
       "      <td>83.1</td>\n",
       "      <td>71.20</td>\n",
       "      <td>0</td>\n",
       "    </tr>\n",
       "    <tr>\n",
       "      <th>UrbanPopulation_Percentage</th>\n",
       "      <td>5.727600e+01</td>\n",
       "      <td>2.514603e+01</td>\n",
       "      <td>0.0</td>\n",
       "      <td>98.8</td>\n",
       "      <td>60.55</td>\n",
       "      <td>0</td>\n",
       "    </tr>\n",
       "    <tr>\n",
       "      <th>UrbanPopulation_Absolute</th>\n",
       "      <td>2.483416e+07</td>\n",
       "      <td>8.517914e+07</td>\n",
       "      <td>26661.0</td>\n",
       "      <td>956553854.0</td>\n",
       "      <td>5011189.50</td>\n",
       "      <td>10</td>\n",
       "    </tr>\n",
       "    <tr>\n",
       "      <th>PopulationDensity</th>\n",
       "      <td>3.760200e+02</td>\n",
       "      <td>1.866303e+03</td>\n",
       "      <td>2.0</td>\n",
       "      <td>24067.0</td>\n",
       "      <td>93.00</td>\n",
       "      <td>0</td>\n",
       "    </tr>\n",
       "  </tbody>\n",
       "</table>\n",
       "</div>"
      ]
     },
     "metadata": {},
     "output_type": "display_data"
    }
   ],
   "execution_count": 17
  },
  {
   "metadata": {
    "ExecuteTime": {
     "end_time": "2025-05-16T23:31:17.370409Z",
     "start_time": "2025-05-16T23:31:17.364088Z"
    }
   },
   "cell_type": "code",
   "source": "summary.to_csv(OUTPUT_DIR / \"demographics_numeric_summary.csv\")",
   "id": "171c6f867423b377",
   "outputs": [],
   "execution_count": 20
  },
  {
   "metadata": {},
   "cell_type": "markdown",
   "source": "### Pearson Correlation",
   "id": "77773eb601c0c871"
  },
  {
   "metadata": {
    "ExecuteTime": {
     "end_time": "2025-05-16T23:31:54.921504Z",
     "start_time": "2025-05-16T23:31:54.915457Z"
    }
   },
   "cell_type": "code",
   "source": [
    "corr = df_demographics[\"LifeExpectancy_Both\"].corr(\n",
    "    df_demographics[\"PopulationDensity\"]\n",
    ")\n",
    "print(f\"Pearson correlation (LifeExpectancy Both vs PopulationDensity): {corr:.4f}\")"
   ],
   "id": "30731ab44c6562cc",
   "outputs": [
    {
     "name": "stdout",
     "output_type": "stream",
     "text": [
      "Pearson correlation (LifeExpectancy Both vs PopulationDensity): 0.1796\n"
     ]
    }
   ],
   "execution_count": 22
  }
 ],
 "metadata": {
  "kernelspec": {
   "display_name": "Python 3",
   "language": "python",
   "name": "python3"
  },
  "language_info": {
   "codemirror_mode": {
    "name": "ipython",
    "version": 2
   },
   "file_extension": ".py",
   "mimetype": "text/x-python",
   "name": "python",
   "nbconvert_exporter": "python",
   "pygments_lexer": "ipython2",
   "version": "2.7.6"
  }
 },
 "nbformat": 4,
 "nbformat_minor": 5
}
